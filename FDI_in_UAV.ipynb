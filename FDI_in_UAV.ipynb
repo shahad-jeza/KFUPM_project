{
  "nbformat": 4,
  "nbformat_minor": 0,
  "metadata": {
    "colab": {
      "provenance": [],
      "include_colab_link": true
    },
    "kernelspec": {
      "name": "python3",
      "display_name": "Python 3"
    },
    "language_info": {
      "name": "python"
    }
  },
  "cells": [
    {
      "cell_type": "markdown",
      "metadata": {
        "id": "view-in-github",
        "colab_type": "text"
      },
      "source": [
        "<a href=\"https://colab.research.google.com/github/shahad-jeza/KFUPM_project/blob/main/FDI_in_UAV.ipynb\" target=\"_parent\"><img src=\"https://colab.research.google.com/assets/colab-badge.svg\" alt=\"Open In Colab\"/></a>"
      ]
    },
    {
      "cell_type": "markdown",
      "source": [
        "# 1- Data prepreation"
      ],
      "metadata": {
        "id": "RqrysPXAjM9a"
      }
    },
    {
      "cell_type": "markdown",
      "source": [
        "**upload the data files from google drive**"
      ],
      "metadata": {
        "id": "dnBo7sIIjdcI"
      }
    },
    {
      "cell_type": "code",
      "source": [
        "from google.colab import drive\n",
        "drive.mount('/content/drive')"
      ],
      "metadata": {
        "colab": {
          "base_uri": "https://localhost:8080/"
        },
        "id": "KdFA_M2SjhVo",
        "outputId": "b907c1a5-9f51-4131-f85f-2240f66890aa"
      },
      "execution_count": 1,
      "outputs": [
        {
          "output_type": "stream",
          "name": "stdout",
          "text": [
            "Mounted at /content/drive\n"
          ]
        }
      ]
    },
    {
      "cell_type": "markdown",
      "source": [
        "**move the data to colab and unzip it**"
      ],
      "metadata": {
        "id": "f7cj08n6oJ6m"
      }
    },
    {
      "cell_type": "code",
      "source": [
        "import shutil\n",
        "import os\n",
        "\n",
        "# Path to the folder containing zip files in Google Drive\n",
        "folder_path = '/content/drive/My Drive/KFUPM_data/'\n",
        "\n",
        "# Destination path in Colab's content directory\n",
        "dest_path = '/content/KFUPM_data/'\n",
        "\n",
        "# Create the destination folder if it doesn't exist\n",
        "os.makedirs(dest_path, exist_ok=True)\n",
        "\n",
        "# List all files in the folder\n",
        "files = os.listdir(folder_path)\n",
        "\n",
        "# Iterate through each file in the folder\n",
        "for file in files:\n",
        "    if file.endswith('.zip'):\n",
        "        # Path to the zip file in Google Drive\n",
        "        zip_file_path = os.path.join(folder_path, file)\n",
        "\n",
        "        # Copy the zip file from Google Drive to Colab\n",
        "        shutil.copy(zip_file_path, dest_path)\n",
        "\n",
        "        # Unzip the file (if needed)\n",
        "        shutil.unpack_archive(os.path.join(dest_path, file), dest_path)\n"
      ],
      "metadata": {
        "id": "jIZ4LBtnjxtS"
      },
      "execution_count": 2,
      "outputs": []
    },
    {
      "cell_type": "markdown",
      "source": [
        "\n",
        "*  **for each folder take csv files only and combine them**\n",
        "*  **also add a column for the label as the folder name**\n",
        "\n"
      ],
      "metadata": {
        "id": "c4CDjzG9aAGo"
      }
    },
    {
      "cell_type": "code",
      "source": [
        "import os\n",
        "import pandas as pd\n",
        "\n",
        "# Function to combine CSV files in a folder\n",
        "def combine_csv_in_folder(folder_path):\n",
        "    # Initialize an empty list to hold all dataframes\n",
        "    all_data = []\n",
        "\n",
        "    # Get the folder name from the folder path\n",
        "    folder_name = os.path.basename(folder_path)\n",
        "\n",
        "    # Iterate through all files in the folder\n",
        "    for file_name in os.listdir(folder_path):\n",
        "        # Check if the file is a CSV file\n",
        "        if file_name.endswith('.csv'):\n",
        "            file_path = os.path.join(folder_path, file_name)\n",
        "            # Read the CSV file into a pandas DataFrame\n",
        "            df = pd.read_csv(file_path)\n",
        "            # Add a 'label' column with the folder name\n",
        "            df['label'] = folder_name\n",
        "            # Append the DataFrame to the list\n",
        "            all_data.append(df)\n",
        "\n",
        "    # Check if any CSV files were found\n",
        "    if len(all_data) == 0:\n",
        "        print(f\"No CSV files found in {folder_path}\")\n",
        "        return None\n",
        "\n",
        "    # Combine all DataFrames into one\n",
        "    combined_df = pd.concat(all_data, ignore_index=True)\n",
        "\n",
        "    return combined_df\n",
        "\n",
        "# Base path where folders are located\n",
        "base_path = '/content/KFUPM_data/'\n",
        "\n",
        "# Get a list of all folders inside base_path\n",
        "folders_to_process = [os.path.join(base_path, folder) for folder in os.listdir(base_path) if os.path.isdir(os.path.join(base_path, folder))]\n",
        "\n",
        "# Initialize an empty list to hold all combined DataFrames\n",
        "all_combined_data = []\n",
        "\n",
        "# Process each folder and combine CSV files\n",
        "for folder_path in folders_to_process:\n",
        "    combined_data = combine_csv_in_folder(folder_path)\n",
        "    if combined_data is not None:\n",
        "        all_combined_data.append(combined_data)\n",
        "\n",
        "# Check if any data was combined\n",
        "if len(all_combined_data) > 0:\n",
        "    # Concatenate all combined DataFrames into one\n",
        "    final_combined_df = pd.concat(all_combined_data, ignore_index=True)\n",
        "    final_combined_df.head()\n",
        "else:\n",
        "    print(\"No data was combined. Please check your folder paths and contents.\")\n"
      ],
      "metadata": {
        "colab": {
          "base_uri": "https://localhost:8080/"
        },
        "id": "bVNG5WFHUnMZ",
        "outputId": "da1978ca-5f0d-4077-ca97-bf07d3b9808f"
      },
      "execution_count": 3,
      "outputs": [
        {
          "output_type": "stream",
          "name": "stdout",
          "text": [
            "No CSV files found in /content/KFUPM_data/__MACOSX\n"
          ]
        }
      ]
    },
    {
      "cell_type": "code",
      "source": [
        "final_combined_df.head()"
      ],
      "metadata": {
        "colab": {
          "base_uri": "https://localhost:8080/",
          "height": 253
        },
        "id": "peZXXExdY4fB",
        "outputId": "5ad1e24b-d44e-4f8a-f925-08d99ac5e80c"
      },
      "execution_count": 4,
      "outputs": [
        {
          "output_type": "execute_result",
          "data": {
            "text/plain": [
              "   timestamp  motor.m1  motor.m2  motor.m3  motor.m4  pwm.m1_pwm  pwm.m2_pwm  \\\n",
              "0      0.000         0         0         0         0           0           0   \n",
              "1      9.897         0         0         0         0           0           0   \n",
              "2     19.816         0         0         0         0           0           0   \n",
              "3     29.719         0         0         0         0           0           0   \n",
              "4     39.641         0         0         0         0           0           0   \n",
              "\n",
              "   pwm.m3_pwm  pwm.m4_pwm  pm.vbatMV  ...  stateEstimate.z  stateEstimate.vx  \\\n",
              "0           0           0       3652  ...         0.000026         -0.000757   \n",
              "1           0           0       3652  ...         0.000052         -0.001207   \n",
              "2           0           0       3652  ...        -0.000025         -0.000925   \n",
              "3           0           0       3652  ...         0.000022         -0.000911   \n",
              "4           0           0       3652  ...        -0.000031         -0.000699   \n",
              "\n",
              "   stateEstimate.vy  stateEstimate.vz  stateEstimate.ax  stateEstimate.ay  \\\n",
              "0         -0.000230          0.001595         -0.002243          0.001268   \n",
              "1          0.000003          0.001471         -0.001635          0.000097   \n",
              "2          0.000260          0.000808         -0.000242         -0.001727   \n",
              "3          0.000245          0.001079         -0.001602          0.000487   \n",
              "4          0.000521          0.000631         -0.001367          0.000340   \n",
              "\n",
              "   stateEstimate.az  stateEstimate.roll  stateEstimate.yaw  \\\n",
              "0         -0.001444           -0.322903         -13.865106   \n",
              "1          0.001919           -0.321898         -13.854039   \n",
              "2         -0.000265           -0.324244         -13.863913   \n",
              "3         -0.000799           -0.323486         -13.857047   \n",
              "4         -0.001369           -0.323486         -13.857047   \n",
              "\n",
              "                 label  \n",
              "0  cut_M2_0.5мм_46.5мм  \n",
              "1  cut_M2_0.5мм_46.5мм  \n",
              "2  cut_M2_0.5мм_46.5мм  \n",
              "3  cut_M2_0.5мм_46.5мм  \n",
              "4  cut_M2_0.5мм_46.5мм  \n",
              "\n",
              "[5 rows x 22 columns]"
            ],
            "text/html": [
              "\n",
              "  <div id=\"df-0b34e401-7bec-4fe1-9fd5-d154f0ca3dbb\" class=\"colab-df-container\">\n",
              "    <div>\n",
              "<style scoped>\n",
              "    .dataframe tbody tr th:only-of-type {\n",
              "        vertical-align: middle;\n",
              "    }\n",
              "\n",
              "    .dataframe tbody tr th {\n",
              "        vertical-align: top;\n",
              "    }\n",
              "\n",
              "    .dataframe thead th {\n",
              "        text-align: right;\n",
              "    }\n",
              "</style>\n",
              "<table border=\"1\" class=\"dataframe\">\n",
              "  <thead>\n",
              "    <tr style=\"text-align: right;\">\n",
              "      <th></th>\n",
              "      <th>timestamp</th>\n",
              "      <th>motor.m1</th>\n",
              "      <th>motor.m2</th>\n",
              "      <th>motor.m3</th>\n",
              "      <th>motor.m4</th>\n",
              "      <th>pwm.m1_pwm</th>\n",
              "      <th>pwm.m2_pwm</th>\n",
              "      <th>pwm.m3_pwm</th>\n",
              "      <th>pwm.m4_pwm</th>\n",
              "      <th>pm.vbatMV</th>\n",
              "      <th>...</th>\n",
              "      <th>stateEstimate.z</th>\n",
              "      <th>stateEstimate.vx</th>\n",
              "      <th>stateEstimate.vy</th>\n",
              "      <th>stateEstimate.vz</th>\n",
              "      <th>stateEstimate.ax</th>\n",
              "      <th>stateEstimate.ay</th>\n",
              "      <th>stateEstimate.az</th>\n",
              "      <th>stateEstimate.roll</th>\n",
              "      <th>stateEstimate.yaw</th>\n",
              "      <th>label</th>\n",
              "    </tr>\n",
              "  </thead>\n",
              "  <tbody>\n",
              "    <tr>\n",
              "      <th>0</th>\n",
              "      <td>0.000</td>\n",
              "      <td>0</td>\n",
              "      <td>0</td>\n",
              "      <td>0</td>\n",
              "      <td>0</td>\n",
              "      <td>0</td>\n",
              "      <td>0</td>\n",
              "      <td>0</td>\n",
              "      <td>0</td>\n",
              "      <td>3652</td>\n",
              "      <td>...</td>\n",
              "      <td>0.000026</td>\n",
              "      <td>-0.000757</td>\n",
              "      <td>-0.000230</td>\n",
              "      <td>0.001595</td>\n",
              "      <td>-0.002243</td>\n",
              "      <td>0.001268</td>\n",
              "      <td>-0.001444</td>\n",
              "      <td>-0.322903</td>\n",
              "      <td>-13.865106</td>\n",
              "      <td>cut_M2_0.5мм_46.5мм</td>\n",
              "    </tr>\n",
              "    <tr>\n",
              "      <th>1</th>\n",
              "      <td>9.897</td>\n",
              "      <td>0</td>\n",
              "      <td>0</td>\n",
              "      <td>0</td>\n",
              "      <td>0</td>\n",
              "      <td>0</td>\n",
              "      <td>0</td>\n",
              "      <td>0</td>\n",
              "      <td>0</td>\n",
              "      <td>3652</td>\n",
              "      <td>...</td>\n",
              "      <td>0.000052</td>\n",
              "      <td>-0.001207</td>\n",
              "      <td>0.000003</td>\n",
              "      <td>0.001471</td>\n",
              "      <td>-0.001635</td>\n",
              "      <td>0.000097</td>\n",
              "      <td>0.001919</td>\n",
              "      <td>-0.321898</td>\n",
              "      <td>-13.854039</td>\n",
              "      <td>cut_M2_0.5мм_46.5мм</td>\n",
              "    </tr>\n",
              "    <tr>\n",
              "      <th>2</th>\n",
              "      <td>19.816</td>\n",
              "      <td>0</td>\n",
              "      <td>0</td>\n",
              "      <td>0</td>\n",
              "      <td>0</td>\n",
              "      <td>0</td>\n",
              "      <td>0</td>\n",
              "      <td>0</td>\n",
              "      <td>0</td>\n",
              "      <td>3652</td>\n",
              "      <td>...</td>\n",
              "      <td>-0.000025</td>\n",
              "      <td>-0.000925</td>\n",
              "      <td>0.000260</td>\n",
              "      <td>0.000808</td>\n",
              "      <td>-0.000242</td>\n",
              "      <td>-0.001727</td>\n",
              "      <td>-0.000265</td>\n",
              "      <td>-0.324244</td>\n",
              "      <td>-13.863913</td>\n",
              "      <td>cut_M2_0.5мм_46.5мм</td>\n",
              "    </tr>\n",
              "    <tr>\n",
              "      <th>3</th>\n",
              "      <td>29.719</td>\n",
              "      <td>0</td>\n",
              "      <td>0</td>\n",
              "      <td>0</td>\n",
              "      <td>0</td>\n",
              "      <td>0</td>\n",
              "      <td>0</td>\n",
              "      <td>0</td>\n",
              "      <td>0</td>\n",
              "      <td>3652</td>\n",
              "      <td>...</td>\n",
              "      <td>0.000022</td>\n",
              "      <td>-0.000911</td>\n",
              "      <td>0.000245</td>\n",
              "      <td>0.001079</td>\n",
              "      <td>-0.001602</td>\n",
              "      <td>0.000487</td>\n",
              "      <td>-0.000799</td>\n",
              "      <td>-0.323486</td>\n",
              "      <td>-13.857047</td>\n",
              "      <td>cut_M2_0.5мм_46.5мм</td>\n",
              "    </tr>\n",
              "    <tr>\n",
              "      <th>4</th>\n",
              "      <td>39.641</td>\n",
              "      <td>0</td>\n",
              "      <td>0</td>\n",
              "      <td>0</td>\n",
              "      <td>0</td>\n",
              "      <td>0</td>\n",
              "      <td>0</td>\n",
              "      <td>0</td>\n",
              "      <td>0</td>\n",
              "      <td>3652</td>\n",
              "      <td>...</td>\n",
              "      <td>-0.000031</td>\n",
              "      <td>-0.000699</td>\n",
              "      <td>0.000521</td>\n",
              "      <td>0.000631</td>\n",
              "      <td>-0.001367</td>\n",
              "      <td>0.000340</td>\n",
              "      <td>-0.001369</td>\n",
              "      <td>-0.323486</td>\n",
              "      <td>-13.857047</td>\n",
              "      <td>cut_M2_0.5мм_46.5мм</td>\n",
              "    </tr>\n",
              "  </tbody>\n",
              "</table>\n",
              "<p>5 rows × 22 columns</p>\n",
              "</div>\n",
              "    <div class=\"colab-df-buttons\">\n",
              "\n",
              "  <div class=\"colab-df-container\">\n",
              "    <button class=\"colab-df-convert\" onclick=\"convertToInteractive('df-0b34e401-7bec-4fe1-9fd5-d154f0ca3dbb')\"\n",
              "            title=\"Convert this dataframe to an interactive table.\"\n",
              "            style=\"display:none;\">\n",
              "\n",
              "  <svg xmlns=\"http://www.w3.org/2000/svg\" height=\"24px\" viewBox=\"0 -960 960 960\">\n",
              "    <path d=\"M120-120v-720h720v720H120Zm60-500h600v-160H180v160Zm220 220h160v-160H400v160Zm0 220h160v-160H400v160ZM180-400h160v-160H180v160Zm440 0h160v-160H620v160ZM180-180h160v-160H180v160Zm440 0h160v-160H620v160Z\"/>\n",
              "  </svg>\n",
              "    </button>\n",
              "\n",
              "  <style>\n",
              "    .colab-df-container {\n",
              "      display:flex;\n",
              "      gap: 12px;\n",
              "    }\n",
              "\n",
              "    .colab-df-convert {\n",
              "      background-color: #E8F0FE;\n",
              "      border: none;\n",
              "      border-radius: 50%;\n",
              "      cursor: pointer;\n",
              "      display: none;\n",
              "      fill: #1967D2;\n",
              "      height: 32px;\n",
              "      padding: 0 0 0 0;\n",
              "      width: 32px;\n",
              "    }\n",
              "\n",
              "    .colab-df-convert:hover {\n",
              "      background-color: #E2EBFA;\n",
              "      box-shadow: 0px 1px 2px rgba(60, 64, 67, 0.3), 0px 1px 3px 1px rgba(60, 64, 67, 0.15);\n",
              "      fill: #174EA6;\n",
              "    }\n",
              "\n",
              "    .colab-df-buttons div {\n",
              "      margin-bottom: 4px;\n",
              "    }\n",
              "\n",
              "    [theme=dark] .colab-df-convert {\n",
              "      background-color: #3B4455;\n",
              "      fill: #D2E3FC;\n",
              "    }\n",
              "\n",
              "    [theme=dark] .colab-df-convert:hover {\n",
              "      background-color: #434B5C;\n",
              "      box-shadow: 0px 1px 3px 1px rgba(0, 0, 0, 0.15);\n",
              "      filter: drop-shadow(0px 1px 2px rgba(0, 0, 0, 0.3));\n",
              "      fill: #FFFFFF;\n",
              "    }\n",
              "  </style>\n",
              "\n",
              "    <script>\n",
              "      const buttonEl =\n",
              "        document.querySelector('#df-0b34e401-7bec-4fe1-9fd5-d154f0ca3dbb button.colab-df-convert');\n",
              "      buttonEl.style.display =\n",
              "        google.colab.kernel.accessAllowed ? 'block' : 'none';\n",
              "\n",
              "      async function convertToInteractive(key) {\n",
              "        const element = document.querySelector('#df-0b34e401-7bec-4fe1-9fd5-d154f0ca3dbb');\n",
              "        const dataTable =\n",
              "          await google.colab.kernel.invokeFunction('convertToInteractive',\n",
              "                                                    [key], {});\n",
              "        if (!dataTable) return;\n",
              "\n",
              "        const docLinkHtml = 'Like what you see? Visit the ' +\n",
              "          '<a target=\"_blank\" href=https://colab.research.google.com/notebooks/data_table.ipynb>data table notebook</a>'\n",
              "          + ' to learn more about interactive tables.';\n",
              "        element.innerHTML = '';\n",
              "        dataTable['output_type'] = 'display_data';\n",
              "        await google.colab.output.renderOutput(dataTable, element);\n",
              "        const docLink = document.createElement('div');\n",
              "        docLink.innerHTML = docLinkHtml;\n",
              "        element.appendChild(docLink);\n",
              "      }\n",
              "    </script>\n",
              "  </div>\n",
              "\n",
              "\n",
              "<div id=\"df-2e9e0db4-4c67-4a84-85b4-65d9fe798785\">\n",
              "  <button class=\"colab-df-quickchart\" onclick=\"quickchart('df-2e9e0db4-4c67-4a84-85b4-65d9fe798785')\"\n",
              "            title=\"Suggest charts\"\n",
              "            style=\"display:none;\">\n",
              "\n",
              "<svg xmlns=\"http://www.w3.org/2000/svg\" height=\"24px\"viewBox=\"0 0 24 24\"\n",
              "     width=\"24px\">\n",
              "    <g>\n",
              "        <path d=\"M19 3H5c-1.1 0-2 .9-2 2v14c0 1.1.9 2 2 2h14c1.1 0 2-.9 2-2V5c0-1.1-.9-2-2-2zM9 17H7v-7h2v7zm4 0h-2V7h2v10zm4 0h-2v-4h2v4z\"/>\n",
              "    </g>\n",
              "</svg>\n",
              "  </button>\n",
              "\n",
              "<style>\n",
              "  .colab-df-quickchart {\n",
              "      --bg-color: #E8F0FE;\n",
              "      --fill-color: #1967D2;\n",
              "      --hover-bg-color: #E2EBFA;\n",
              "      --hover-fill-color: #174EA6;\n",
              "      --disabled-fill-color: #AAA;\n",
              "      --disabled-bg-color: #DDD;\n",
              "  }\n",
              "\n",
              "  [theme=dark] .colab-df-quickchart {\n",
              "      --bg-color: #3B4455;\n",
              "      --fill-color: #D2E3FC;\n",
              "      --hover-bg-color: #434B5C;\n",
              "      --hover-fill-color: #FFFFFF;\n",
              "      --disabled-bg-color: #3B4455;\n",
              "      --disabled-fill-color: #666;\n",
              "  }\n",
              "\n",
              "  .colab-df-quickchart {\n",
              "    background-color: var(--bg-color);\n",
              "    border: none;\n",
              "    border-radius: 50%;\n",
              "    cursor: pointer;\n",
              "    display: none;\n",
              "    fill: var(--fill-color);\n",
              "    height: 32px;\n",
              "    padding: 0;\n",
              "    width: 32px;\n",
              "  }\n",
              "\n",
              "  .colab-df-quickchart:hover {\n",
              "    background-color: var(--hover-bg-color);\n",
              "    box-shadow: 0 1px 2px rgba(60, 64, 67, 0.3), 0 1px 3px 1px rgba(60, 64, 67, 0.15);\n",
              "    fill: var(--button-hover-fill-color);\n",
              "  }\n",
              "\n",
              "  .colab-df-quickchart-complete:disabled,\n",
              "  .colab-df-quickchart-complete:disabled:hover {\n",
              "    background-color: var(--disabled-bg-color);\n",
              "    fill: var(--disabled-fill-color);\n",
              "    box-shadow: none;\n",
              "  }\n",
              "\n",
              "  .colab-df-spinner {\n",
              "    border: 2px solid var(--fill-color);\n",
              "    border-color: transparent;\n",
              "    border-bottom-color: var(--fill-color);\n",
              "    animation:\n",
              "      spin 1s steps(1) infinite;\n",
              "  }\n",
              "\n",
              "  @keyframes spin {\n",
              "    0% {\n",
              "      border-color: transparent;\n",
              "      border-bottom-color: var(--fill-color);\n",
              "      border-left-color: var(--fill-color);\n",
              "    }\n",
              "    20% {\n",
              "      border-color: transparent;\n",
              "      border-left-color: var(--fill-color);\n",
              "      border-top-color: var(--fill-color);\n",
              "    }\n",
              "    30% {\n",
              "      border-color: transparent;\n",
              "      border-left-color: var(--fill-color);\n",
              "      border-top-color: var(--fill-color);\n",
              "      border-right-color: var(--fill-color);\n",
              "    }\n",
              "    40% {\n",
              "      border-color: transparent;\n",
              "      border-right-color: var(--fill-color);\n",
              "      border-top-color: var(--fill-color);\n",
              "    }\n",
              "    60% {\n",
              "      border-color: transparent;\n",
              "      border-right-color: var(--fill-color);\n",
              "    }\n",
              "    80% {\n",
              "      border-color: transparent;\n",
              "      border-right-color: var(--fill-color);\n",
              "      border-bottom-color: var(--fill-color);\n",
              "    }\n",
              "    90% {\n",
              "      border-color: transparent;\n",
              "      border-bottom-color: var(--fill-color);\n",
              "    }\n",
              "  }\n",
              "</style>\n",
              "\n",
              "  <script>\n",
              "    async function quickchart(key) {\n",
              "      const quickchartButtonEl =\n",
              "        document.querySelector('#' + key + ' button');\n",
              "      quickchartButtonEl.disabled = true;  // To prevent multiple clicks.\n",
              "      quickchartButtonEl.classList.add('colab-df-spinner');\n",
              "      try {\n",
              "        const charts = await google.colab.kernel.invokeFunction(\n",
              "            'suggestCharts', [key], {});\n",
              "      } catch (error) {\n",
              "        console.error('Error during call to suggestCharts:', error);\n",
              "      }\n",
              "      quickchartButtonEl.classList.remove('colab-df-spinner');\n",
              "      quickchartButtonEl.classList.add('colab-df-quickchart-complete');\n",
              "    }\n",
              "    (() => {\n",
              "      let quickchartButtonEl =\n",
              "        document.querySelector('#df-2e9e0db4-4c67-4a84-85b4-65d9fe798785 button');\n",
              "      quickchartButtonEl.style.display =\n",
              "        google.colab.kernel.accessAllowed ? 'block' : 'none';\n",
              "    })();\n",
              "  </script>\n",
              "</div>\n",
              "\n",
              "    </div>\n",
              "  </div>\n"
            ],
            "application/vnd.google.colaboratory.intrinsic+json": {
              "type": "dataframe",
              "variable_name": "final_combined_df"
            }
          },
          "metadata": {},
          "execution_count": 4
        }
      ]
    },
    {
      "cell_type": "markdown",
      "source": [
        "**shuffle the data**"
      ],
      "metadata": {
        "id": "PCRDiCAlaSgQ"
      }
    },
    {
      "cell_type": "code",
      "source": [
        "final_combined_df = final_combined_df.sample(frac=1).reset_index(drop=True)"
      ],
      "metadata": {
        "id": "DWeYkaIiZqPn"
      },
      "execution_count": 5,
      "outputs": []
    },
    {
      "cell_type": "code",
      "source": [
        "final_combined_df.head()"
      ],
      "metadata": {
        "colab": {
          "base_uri": "https://localhost:8080/",
          "height": 253
        },
        "id": "cOLbLsH2Zuk9",
        "outputId": "5f4ce219-782a-4e52-a0fe-afe7ae0739dd"
      },
      "execution_count": 6,
      "outputs": [
        {
          "output_type": "execute_result",
          "data": {
            "text/plain": [
              "   timestamp  motor.m1  motor.m2  motor.m3  motor.m4  pwm.m1_pwm  pwm.m2_pwm  \\\n",
              "0  13658.858         0         0         0         0           0           0   \n",
              "1   7839.694     41581     32385     44777     37337       46502       39178   \n",
              "2  18514.457     43753     39839     49827     34449       50378       47499   \n",
              "3  17091.511     40155     44187     49065     33349       44790       47543   \n",
              "4  20121.129     42643     37963     49979     37831       48964       45421   \n",
              "\n",
              "   pwm.m3_pwm  pwm.m4_pwm  pm.vbatMV  ...  stateEstimate.z  stateEstimate.vx  \\\n",
              "0           0           0       3821  ...         0.048333         -0.007261   \n",
              "1       48653       43331       3446  ...         0.544988          0.654114   \n",
              "2       54212       43010       3283  ...         0.447737          0.059459   \n",
              "3       50448       39421       3499  ...         0.023905         -0.052073   \n",
              "4       53609       45315       3325  ...         0.524585         -0.228026   \n",
              "\n",
              "   stateEstimate.vy  stateEstimate.vz  stateEstimate.ax  stateEstimate.ay  \\\n",
              "0         -0.000468         -0.001778         -0.003035         -0.000137   \n",
              "1         -0.003809         -0.014304         -0.017334         -0.000680   \n",
              "2          0.008377          0.124497         -0.025107          0.002579   \n",
              "3         -0.009242          0.029086         -0.057143          0.000466   \n",
              "4         -0.029023          0.035338         -0.070729          0.014167   \n",
              "\n",
              "   stateEstimate.az  stateEstimate.roll  stateEstimate.yaw  \\\n",
              "0          0.000347           -0.123957          -5.681973   \n",
              "1         -0.025802           -0.944093           0.886312   \n",
              "2         -0.007990            0.229595           4.189409   \n",
              "3          0.029980           -1.259609           1.447925   \n",
              "4          0.027744           -1.167618           2.966818   \n",
              "\n",
              "                   label  \n",
              "0          normal_flight  \n",
              "1          normal_flight  \n",
              "2    cut_M2_0.5мм_46.5мм  \n",
              "3          normal_flight  \n",
              "4  add_weight_W1_near_M3  \n",
              "\n",
              "[5 rows x 22 columns]"
            ],
            "text/html": [
              "\n",
              "  <div id=\"df-b24dabb2-278f-4de8-b0c9-8440bb551a37\" class=\"colab-df-container\">\n",
              "    <div>\n",
              "<style scoped>\n",
              "    .dataframe tbody tr th:only-of-type {\n",
              "        vertical-align: middle;\n",
              "    }\n",
              "\n",
              "    .dataframe tbody tr th {\n",
              "        vertical-align: top;\n",
              "    }\n",
              "\n",
              "    .dataframe thead th {\n",
              "        text-align: right;\n",
              "    }\n",
              "</style>\n",
              "<table border=\"1\" class=\"dataframe\">\n",
              "  <thead>\n",
              "    <tr style=\"text-align: right;\">\n",
              "      <th></th>\n",
              "      <th>timestamp</th>\n",
              "      <th>motor.m1</th>\n",
              "      <th>motor.m2</th>\n",
              "      <th>motor.m3</th>\n",
              "      <th>motor.m4</th>\n",
              "      <th>pwm.m1_pwm</th>\n",
              "      <th>pwm.m2_pwm</th>\n",
              "      <th>pwm.m3_pwm</th>\n",
              "      <th>pwm.m4_pwm</th>\n",
              "      <th>pm.vbatMV</th>\n",
              "      <th>...</th>\n",
              "      <th>stateEstimate.z</th>\n",
              "      <th>stateEstimate.vx</th>\n",
              "      <th>stateEstimate.vy</th>\n",
              "      <th>stateEstimate.vz</th>\n",
              "      <th>stateEstimate.ax</th>\n",
              "      <th>stateEstimate.ay</th>\n",
              "      <th>stateEstimate.az</th>\n",
              "      <th>stateEstimate.roll</th>\n",
              "      <th>stateEstimate.yaw</th>\n",
              "      <th>label</th>\n",
              "    </tr>\n",
              "  </thead>\n",
              "  <tbody>\n",
              "    <tr>\n",
              "      <th>0</th>\n",
              "      <td>13658.858</td>\n",
              "      <td>0</td>\n",
              "      <td>0</td>\n",
              "      <td>0</td>\n",
              "      <td>0</td>\n",
              "      <td>0</td>\n",
              "      <td>0</td>\n",
              "      <td>0</td>\n",
              "      <td>0</td>\n",
              "      <td>3821</td>\n",
              "      <td>...</td>\n",
              "      <td>0.048333</td>\n",
              "      <td>-0.007261</td>\n",
              "      <td>-0.000468</td>\n",
              "      <td>-0.001778</td>\n",
              "      <td>-0.003035</td>\n",
              "      <td>-0.000137</td>\n",
              "      <td>0.000347</td>\n",
              "      <td>-0.123957</td>\n",
              "      <td>-5.681973</td>\n",
              "      <td>normal_flight</td>\n",
              "    </tr>\n",
              "    <tr>\n",
              "      <th>1</th>\n",
              "      <td>7839.694</td>\n",
              "      <td>41581</td>\n",
              "      <td>32385</td>\n",
              "      <td>44777</td>\n",
              "      <td>37337</td>\n",
              "      <td>46502</td>\n",
              "      <td>39178</td>\n",
              "      <td>48653</td>\n",
              "      <td>43331</td>\n",
              "      <td>3446</td>\n",
              "      <td>...</td>\n",
              "      <td>0.544988</td>\n",
              "      <td>0.654114</td>\n",
              "      <td>-0.003809</td>\n",
              "      <td>-0.014304</td>\n",
              "      <td>-0.017334</td>\n",
              "      <td>-0.000680</td>\n",
              "      <td>-0.025802</td>\n",
              "      <td>-0.944093</td>\n",
              "      <td>0.886312</td>\n",
              "      <td>normal_flight</td>\n",
              "    </tr>\n",
              "    <tr>\n",
              "      <th>2</th>\n",
              "      <td>18514.457</td>\n",
              "      <td>43753</td>\n",
              "      <td>39839</td>\n",
              "      <td>49827</td>\n",
              "      <td>34449</td>\n",
              "      <td>50378</td>\n",
              "      <td>47499</td>\n",
              "      <td>54212</td>\n",
              "      <td>43010</td>\n",
              "      <td>3283</td>\n",
              "      <td>...</td>\n",
              "      <td>0.447737</td>\n",
              "      <td>0.059459</td>\n",
              "      <td>0.008377</td>\n",
              "      <td>0.124497</td>\n",
              "      <td>-0.025107</td>\n",
              "      <td>0.002579</td>\n",
              "      <td>-0.007990</td>\n",
              "      <td>0.229595</td>\n",
              "      <td>4.189409</td>\n",
              "      <td>cut_M2_0.5мм_46.5мм</td>\n",
              "    </tr>\n",
              "    <tr>\n",
              "      <th>3</th>\n",
              "      <td>17091.511</td>\n",
              "      <td>40155</td>\n",
              "      <td>44187</td>\n",
              "      <td>49065</td>\n",
              "      <td>33349</td>\n",
              "      <td>44790</td>\n",
              "      <td>47543</td>\n",
              "      <td>50448</td>\n",
              "      <td>39421</td>\n",
              "      <td>3499</td>\n",
              "      <td>...</td>\n",
              "      <td>0.023905</td>\n",
              "      <td>-0.052073</td>\n",
              "      <td>-0.009242</td>\n",
              "      <td>0.029086</td>\n",
              "      <td>-0.057143</td>\n",
              "      <td>0.000466</td>\n",
              "      <td>0.029980</td>\n",
              "      <td>-1.259609</td>\n",
              "      <td>1.447925</td>\n",
              "      <td>normal_flight</td>\n",
              "    </tr>\n",
              "    <tr>\n",
              "      <th>4</th>\n",
              "      <td>20121.129</td>\n",
              "      <td>42643</td>\n",
              "      <td>37963</td>\n",
              "      <td>49979</td>\n",
              "      <td>37831</td>\n",
              "      <td>48964</td>\n",
              "      <td>45421</td>\n",
              "      <td>53609</td>\n",
              "      <td>45315</td>\n",
              "      <td>3325</td>\n",
              "      <td>...</td>\n",
              "      <td>0.524585</td>\n",
              "      <td>-0.228026</td>\n",
              "      <td>-0.029023</td>\n",
              "      <td>0.035338</td>\n",
              "      <td>-0.070729</td>\n",
              "      <td>0.014167</td>\n",
              "      <td>0.027744</td>\n",
              "      <td>-1.167618</td>\n",
              "      <td>2.966818</td>\n",
              "      <td>add_weight_W1_near_M3</td>\n",
              "    </tr>\n",
              "  </tbody>\n",
              "</table>\n",
              "<p>5 rows × 22 columns</p>\n",
              "</div>\n",
              "    <div class=\"colab-df-buttons\">\n",
              "\n",
              "  <div class=\"colab-df-container\">\n",
              "    <button class=\"colab-df-convert\" onclick=\"convertToInteractive('df-b24dabb2-278f-4de8-b0c9-8440bb551a37')\"\n",
              "            title=\"Convert this dataframe to an interactive table.\"\n",
              "            style=\"display:none;\">\n",
              "\n",
              "  <svg xmlns=\"http://www.w3.org/2000/svg\" height=\"24px\" viewBox=\"0 -960 960 960\">\n",
              "    <path d=\"M120-120v-720h720v720H120Zm60-500h600v-160H180v160Zm220 220h160v-160H400v160Zm0 220h160v-160H400v160ZM180-400h160v-160H180v160Zm440 0h160v-160H620v160ZM180-180h160v-160H180v160Zm440 0h160v-160H620v160Z\"/>\n",
              "  </svg>\n",
              "    </button>\n",
              "\n",
              "  <style>\n",
              "    .colab-df-container {\n",
              "      display:flex;\n",
              "      gap: 12px;\n",
              "    }\n",
              "\n",
              "    .colab-df-convert {\n",
              "      background-color: #E8F0FE;\n",
              "      border: none;\n",
              "      border-radius: 50%;\n",
              "      cursor: pointer;\n",
              "      display: none;\n",
              "      fill: #1967D2;\n",
              "      height: 32px;\n",
              "      padding: 0 0 0 0;\n",
              "      width: 32px;\n",
              "    }\n",
              "\n",
              "    .colab-df-convert:hover {\n",
              "      background-color: #E2EBFA;\n",
              "      box-shadow: 0px 1px 2px rgba(60, 64, 67, 0.3), 0px 1px 3px 1px rgba(60, 64, 67, 0.15);\n",
              "      fill: #174EA6;\n",
              "    }\n",
              "\n",
              "    .colab-df-buttons div {\n",
              "      margin-bottom: 4px;\n",
              "    }\n",
              "\n",
              "    [theme=dark] .colab-df-convert {\n",
              "      background-color: #3B4455;\n",
              "      fill: #D2E3FC;\n",
              "    }\n",
              "\n",
              "    [theme=dark] .colab-df-convert:hover {\n",
              "      background-color: #434B5C;\n",
              "      box-shadow: 0px 1px 3px 1px rgba(0, 0, 0, 0.15);\n",
              "      filter: drop-shadow(0px 1px 2px rgba(0, 0, 0, 0.3));\n",
              "      fill: #FFFFFF;\n",
              "    }\n",
              "  </style>\n",
              "\n",
              "    <script>\n",
              "      const buttonEl =\n",
              "        document.querySelector('#df-b24dabb2-278f-4de8-b0c9-8440bb551a37 button.colab-df-convert');\n",
              "      buttonEl.style.display =\n",
              "        google.colab.kernel.accessAllowed ? 'block' : 'none';\n",
              "\n",
              "      async function convertToInteractive(key) {\n",
              "        const element = document.querySelector('#df-b24dabb2-278f-4de8-b0c9-8440bb551a37');\n",
              "        const dataTable =\n",
              "          await google.colab.kernel.invokeFunction('convertToInteractive',\n",
              "                                                    [key], {});\n",
              "        if (!dataTable) return;\n",
              "\n",
              "        const docLinkHtml = 'Like what you see? Visit the ' +\n",
              "          '<a target=\"_blank\" href=https://colab.research.google.com/notebooks/data_table.ipynb>data table notebook</a>'\n",
              "          + ' to learn more about interactive tables.';\n",
              "        element.innerHTML = '';\n",
              "        dataTable['output_type'] = 'display_data';\n",
              "        await google.colab.output.renderOutput(dataTable, element);\n",
              "        const docLink = document.createElement('div');\n",
              "        docLink.innerHTML = docLinkHtml;\n",
              "        element.appendChild(docLink);\n",
              "      }\n",
              "    </script>\n",
              "  </div>\n",
              "\n",
              "\n",
              "<div id=\"df-5fb8ac34-9693-4141-a028-b9c1559b0ca5\">\n",
              "  <button class=\"colab-df-quickchart\" onclick=\"quickchart('df-5fb8ac34-9693-4141-a028-b9c1559b0ca5')\"\n",
              "            title=\"Suggest charts\"\n",
              "            style=\"display:none;\">\n",
              "\n",
              "<svg xmlns=\"http://www.w3.org/2000/svg\" height=\"24px\"viewBox=\"0 0 24 24\"\n",
              "     width=\"24px\">\n",
              "    <g>\n",
              "        <path d=\"M19 3H5c-1.1 0-2 .9-2 2v14c0 1.1.9 2 2 2h14c1.1 0 2-.9 2-2V5c0-1.1-.9-2-2-2zM9 17H7v-7h2v7zm4 0h-2V7h2v10zm4 0h-2v-4h2v4z\"/>\n",
              "    </g>\n",
              "</svg>\n",
              "  </button>\n",
              "\n",
              "<style>\n",
              "  .colab-df-quickchart {\n",
              "      --bg-color: #E8F0FE;\n",
              "      --fill-color: #1967D2;\n",
              "      --hover-bg-color: #E2EBFA;\n",
              "      --hover-fill-color: #174EA6;\n",
              "      --disabled-fill-color: #AAA;\n",
              "      --disabled-bg-color: #DDD;\n",
              "  }\n",
              "\n",
              "  [theme=dark] .colab-df-quickchart {\n",
              "      --bg-color: #3B4455;\n",
              "      --fill-color: #D2E3FC;\n",
              "      --hover-bg-color: #434B5C;\n",
              "      --hover-fill-color: #FFFFFF;\n",
              "      --disabled-bg-color: #3B4455;\n",
              "      --disabled-fill-color: #666;\n",
              "  }\n",
              "\n",
              "  .colab-df-quickchart {\n",
              "    background-color: var(--bg-color);\n",
              "    border: none;\n",
              "    border-radius: 50%;\n",
              "    cursor: pointer;\n",
              "    display: none;\n",
              "    fill: var(--fill-color);\n",
              "    height: 32px;\n",
              "    padding: 0;\n",
              "    width: 32px;\n",
              "  }\n",
              "\n",
              "  .colab-df-quickchart:hover {\n",
              "    background-color: var(--hover-bg-color);\n",
              "    box-shadow: 0 1px 2px rgba(60, 64, 67, 0.3), 0 1px 3px 1px rgba(60, 64, 67, 0.15);\n",
              "    fill: var(--button-hover-fill-color);\n",
              "  }\n",
              "\n",
              "  .colab-df-quickchart-complete:disabled,\n",
              "  .colab-df-quickchart-complete:disabled:hover {\n",
              "    background-color: var(--disabled-bg-color);\n",
              "    fill: var(--disabled-fill-color);\n",
              "    box-shadow: none;\n",
              "  }\n",
              "\n",
              "  .colab-df-spinner {\n",
              "    border: 2px solid var(--fill-color);\n",
              "    border-color: transparent;\n",
              "    border-bottom-color: var(--fill-color);\n",
              "    animation:\n",
              "      spin 1s steps(1) infinite;\n",
              "  }\n",
              "\n",
              "  @keyframes spin {\n",
              "    0% {\n",
              "      border-color: transparent;\n",
              "      border-bottom-color: var(--fill-color);\n",
              "      border-left-color: var(--fill-color);\n",
              "    }\n",
              "    20% {\n",
              "      border-color: transparent;\n",
              "      border-left-color: var(--fill-color);\n",
              "      border-top-color: var(--fill-color);\n",
              "    }\n",
              "    30% {\n",
              "      border-color: transparent;\n",
              "      border-left-color: var(--fill-color);\n",
              "      border-top-color: var(--fill-color);\n",
              "      border-right-color: var(--fill-color);\n",
              "    }\n",
              "    40% {\n",
              "      border-color: transparent;\n",
              "      border-right-color: var(--fill-color);\n",
              "      border-top-color: var(--fill-color);\n",
              "    }\n",
              "    60% {\n",
              "      border-color: transparent;\n",
              "      border-right-color: var(--fill-color);\n",
              "    }\n",
              "    80% {\n",
              "      border-color: transparent;\n",
              "      border-right-color: var(--fill-color);\n",
              "      border-bottom-color: var(--fill-color);\n",
              "    }\n",
              "    90% {\n",
              "      border-color: transparent;\n",
              "      border-bottom-color: var(--fill-color);\n",
              "    }\n",
              "  }\n",
              "</style>\n",
              "\n",
              "  <script>\n",
              "    async function quickchart(key) {\n",
              "      const quickchartButtonEl =\n",
              "        document.querySelector('#' + key + ' button');\n",
              "      quickchartButtonEl.disabled = true;  // To prevent multiple clicks.\n",
              "      quickchartButtonEl.classList.add('colab-df-spinner');\n",
              "      try {\n",
              "        const charts = await google.colab.kernel.invokeFunction(\n",
              "            'suggestCharts', [key], {});\n",
              "      } catch (error) {\n",
              "        console.error('Error during call to suggestCharts:', error);\n",
              "      }\n",
              "      quickchartButtonEl.classList.remove('colab-df-spinner');\n",
              "      quickchartButtonEl.classList.add('colab-df-quickchart-complete');\n",
              "    }\n",
              "    (() => {\n",
              "      let quickchartButtonEl =\n",
              "        document.querySelector('#df-5fb8ac34-9693-4141-a028-b9c1559b0ca5 button');\n",
              "      quickchartButtonEl.style.display =\n",
              "        google.colab.kernel.accessAllowed ? 'block' : 'none';\n",
              "    })();\n",
              "  </script>\n",
              "</div>\n",
              "\n",
              "    </div>\n",
              "  </div>\n"
            ],
            "application/vnd.google.colaboratory.intrinsic+json": {
              "type": "dataframe",
              "variable_name": "final_combined_df"
            }
          },
          "metadata": {},
          "execution_count": 6
        }
      ]
    },
    {
      "cell_type": "markdown",
      "source": [
        "At this stage the data is labeld with 4 classes and ready for next step"
      ],
      "metadata": {
        "id": "yUcEQ5Xvod12"
      }
    },
    {
      "cell_type": "markdown",
      "source": [
        "\n",
        "\n",
        "---\n",
        "\n"
      ],
      "metadata": {
        "id": "yzv5vfNLoqq6"
      }
    },
    {
      "cell_type": "markdown",
      "source": [
        "# Data Pre-proccessing"
      ],
      "metadata": {
        "id": "tUlQmgKsaXTS"
      }
    },
    {
      "cell_type": "code",
      "source": [
        "import pandas as pd\n",
        "from sklearn.model_selection import train_test_split\n",
        "from sklearn.preprocessing import StandardScaler, LabelEncoder\n",
        "from sklearn.svm import SVC\n",
        "from sklearn.metrics import classification_report\n",
        "\n",
        "# Encode the labels into numerical values\n",
        "label_encoder = LabelEncoder()\n",
        "final_combined_df['label'] = label_encoder.fit_transform(final_combined_df['label'])\n",
        "\n",
        "# Split the data into features and labels\n",
        "X = final_combined_df.drop(['timestamp', 'label'], axis=1)\n",
        "y = final_combined_df['label']\n",
        "\n",
        "# Normalize the feature data\n",
        "scaler = StandardScaler()\n",
        "X_scaled = scaler.fit_transform(X)"
      ],
      "metadata": {
        "id": "UFkGM6ZeopJk"
      },
      "execution_count": 7,
      "outputs": []
    },
    {
      "cell_type": "code",
      "source": [
        "# Split the data into training and testing sets\n",
        "X_train, X_test, y_train, y_test = train_test_split(X_scaled, y, test_size=0.2, random_state=42)"
      ],
      "metadata": {
        "id": "rHhvRmpXorHV"
      },
      "execution_count": 8,
      "outputs": []
    },
    {
      "cell_type": "markdown",
      "source": [
        "\n",
        "\n",
        "---\n",
        "\n"
      ],
      "metadata": {
        "id": "cpIMlKZe3TMy"
      }
    },
    {
      "cell_type": "markdown",
      "source": [
        "# 3- model training"
      ],
      "metadata": {
        "id": "AM0hPXRs3T0m"
      }
    },
    {
      "cell_type": "markdown",
      "source": [
        "**Support Vector Machine**"
      ],
      "metadata": {
        "id": "9O6udcX65Q5O"
      }
    },
    {
      "cell_type": "code",
      "source": [
        "# Train the SVM model\n",
        "\n",
        "svm_model = SVC(kernel='linear')\n",
        "start_time = time.time()\n",
        "svm_model.fit(X_train, y_train)\n",
        "training_time = time.time() - start_time\n",
        "print(f\"Training Time: {training_time:.4f} seconds\")"
      ],
      "metadata": {
        "colab": {
          "base_uri": "https://localhost:8080/"
        },
        "id": "CWh0VyVq3XAQ",
        "outputId": "1cbf0750-aa78-46dc-9828-3ecc8b5243d9"
      },
      "execution_count": 17,
      "outputs": [
        {
          "output_type": "stream",
          "name": "stdout",
          "text": [
            "Training Time: 79.9964 seconds\n"
          ]
        }
      ]
    },
    {
      "cell_type": "code",
      "source": [
        "from sklearn.metrics import classification_report, accuracy_score\n",
        "import time\n",
        "\n",
        "# Measure inference time\n",
        "start_time = time.time()\n",
        "y_pred = svm_model.predict(X_test)\n",
        "inference_time = time.time() - start_time\n",
        "print(f\"Inference Time: {inference_time:.4f} seconds\")\n",
        "\n",
        "\n",
        "# Evaluate the model\n",
        "accuracy = accuracy_score(y_test, y_pred)\n",
        "print(f\"Accuracy: {accuracy:.2f}\")\n",
        "\n",
        "y_pred = svm_model.predict(X_test)\n",
        "print(classification_report(y_test, y_pred, target_names=label_encoder.classes_))"
      ],
      "metadata": {
        "colab": {
          "base_uri": "https://localhost:8080/"
        },
        "id": "mURNbs8U3vw9",
        "outputId": "ac970fb5-187a-4c43-bcd0-c86d6f702f49"
      },
      "execution_count": 10,
      "outputs": [
        {
          "output_type": "stream",
          "name": "stdout",
          "text": [
            "Inference Time: 4.7370 seconds\n",
            "Accuracy: 0.88\n",
            "                         precision    recall  f1-score   support\n",
            "\n",
            "  add_weight_W1_near_M3       0.72      0.73      0.73      1553\n",
            "    cut_M2_0.5мм_46.5мм       0.95      0.78      0.86      1585\n",
            "          normal_flight       0.96      0.97      0.97      6274\n",
            "tape_on_propeller_M1_M3       0.69      0.76      0.72      1486\n",
            "\n",
            "               accuracy                           0.88     10898\n",
            "              macro avg       0.83      0.81      0.82     10898\n",
            "           weighted avg       0.89      0.88      0.88     10898\n",
            "\n"
          ]
        }
      ]
    },
    {
      "cell_type": "markdown",
      "source": [
        "\n",
        "\n",
        "---\n",
        "\n"
      ],
      "metadata": {
        "id": "0glldWX65Pk4"
      }
    },
    {
      "cell_type": "markdown",
      "source": [
        "**Random Forest Classifier**"
      ],
      "metadata": {
        "id": "CxIwZ4M75Wgp"
      }
    },
    {
      "cell_type": "code",
      "source": [
        "from sklearn.ensemble import RandomForestClassifier\n",
        "\n",
        "# Train the Random Forest model\n",
        "rf_model = RandomForestClassifier(n_estimators=100, random_state=42)\n",
        "start_time = time.time()\n",
        "rf_model.fit(X_train, y_train)\n",
        "training_time = time.time() - start_time\n",
        "print(f\"Training Time: {training_time:.4f} seconds\")"
      ],
      "metadata": {
        "id": "05GxJnfL5Z4P",
        "outputId": "449052a3-eccc-4ecf-85c6-cfc32ca28311",
        "colab": {
          "base_uri": "https://localhost:8080/"
        }
      },
      "execution_count": 18,
      "outputs": [
        {
          "output_type": "stream",
          "name": "stdout",
          "text": [
            "Training Time: 24.9016 seconds\n"
          ]
        }
      ]
    },
    {
      "cell_type": "code",
      "source": [
        "# Predict on the test set\n",
        "\n",
        "# Measure inference time\n",
        "start_time = time.time()\n",
        "y_pred = rf_model.predict(X_test)\n",
        "inference_time = time.time() - start_time\n",
        "print(f\"Inference Time: {inference_time:.4f} seconds\")\n",
        "\n",
        "# Evaluate the model\n",
        "accuracy = accuracy_score(y_test, y_pred)\n",
        "print(f\"Accuracy: {accuracy:.2f}\")\n",
        "\n",
        "print(\"Classification Report:\")\n",
        "print(classification_report(y_test, y_pred, target_names=label_encoder.classes_))"
      ],
      "metadata": {
        "id": "EAGKBpSm5flD",
        "outputId": "c3cbe063-cd5c-40e3-9b2a-2b48c3df9d03",
        "colab": {
          "base_uri": "https://localhost:8080/"
        }
      },
      "execution_count": 12,
      "outputs": [
        {
          "output_type": "stream",
          "name": "stdout",
          "text": [
            "Inference Time: 0.1809 seconds\n",
            "Accuracy: 0.99\n",
            "Classification Report:\n",
            "                         precision    recall  f1-score   support\n",
            "\n",
            "  add_weight_W1_near_M3       0.99      0.98      0.99      1553\n",
            "    cut_M2_0.5мм_46.5мм       0.99      1.00      0.99      1585\n",
            "          normal_flight       1.00      1.00      1.00      6274\n",
            "tape_on_propeller_M1_M3       0.99      0.98      0.99      1486\n",
            "\n",
            "               accuracy                           0.99     10898\n",
            "              macro avg       0.99      0.99      0.99     10898\n",
            "           weighted avg       0.99      0.99      0.99     10898\n",
            "\n"
          ]
        }
      ]
    },
    {
      "cell_type": "markdown",
      "source": [
        "**Features importance**"
      ],
      "metadata": {
        "id": "uC9B8w_1u9jj"
      }
    },
    {
      "cell_type": "code",
      "source": [
        "import matplotlib.pyplot as plt\n",
        "\n",
        "# Get feature importance from the Random Forest model\n",
        "feature_importances = rf_model.feature_importances_\n",
        "feature_names = X.columns\n",
        "\n",
        "# Create a DataFrame for visualization\n",
        "importance_df = pd.DataFrame({'Feature': feature_names, 'Importance': feature_importances})\n",
        "importance_df = importance_df.sort_values(by='Importance', ascending=False)\n",
        "\n",
        "# Plot the feature importances\n",
        "plt.figure(figsize=(10, 8))\n",
        "plt.barh(importance_df['Feature'], importance_df['Importance'])\n",
        "plt.xlabel('Importance')\n",
        "plt.ylabel('Feature')\n",
        "plt.title('Feature Importance in Random Forest')\n",
        "plt.gca().invert_yaxis()\n",
        "plt.show()\n"
      ],
      "metadata": {
        "id": "QHq1qj-QWt7y",
        "outputId": "af482367-8065-409e-bd9b-ce5fc8f76d60",
        "colab": {
          "base_uri": "https://localhost:8080/",
          "height": 718
        }
      },
      "execution_count": 13,
      "outputs": [
        {
          "output_type": "display_data",
          "data": {
            "text/plain": [
              "<Figure size 1000x800 with 1 Axes>"
            ],
            "image/png": "[encoded data removed]"
          },
          "metadata": {}
        }
      ]
    },
    {
      "cell_type": "markdown",
      "source": [
        "\n",
        "\n",
        "---\n",
        "\n"
      ],
      "metadata": {
        "id": "olwBzwTvT89W"
      }
    },
    {
      "cell_type": "markdown",
      "source": [
        "**Gradient boosting**"
      ],
      "metadata": {
        "id": "ZxatMqXdT93b"
      }
    },
    {
      "cell_type": "code",
      "source": [
        "from sklearn.ensemble import GradientBoostingClassifier\n",
        "from sklearn.metrics import classification_report, accuracy_score, confusion_matrix\n",
        "\n",
        "gb_model = GradientBoostingClassifier(random_state=42)\n",
        "\n",
        "start_time = time.time()\n",
        "gb_model.fit(X_train, y_train)\n",
        "training_time = time.time() - start_time\n",
        "print(f\"Training Time: {training_time:.4f} seconds\")\n",
        "\n",
        "start_time = time.time()\n",
        "y_pred = gb_model.predict(X_test)\n",
        "inference_time = time.time() - start_time\n",
        "print(f\"Inference Time: {inference_time:.4f} seconds\")\n",
        "\n",
        "accuracy = accuracy_score(y_test, y_pred)\n",
        "print(f\"Accuracy: {accuracy:.2f}\")\n",
        "\n",
        "conf_matrix = confusion_matrix(y_test, y_pred)\n",
        "class_report = classification_report(y_test, y_pred)\n",
        "\n",
        "print(\"Confusion Matrix:\")\n",
        "print(conf_matrix)\n",
        "print(\"Classification Report:\")\n",
        "print(class_report)"
      ],
      "metadata": {
        "id": "2Cf0qvP-Uac8",
        "outputId": "a9b6e324-bbd3-46dc-a81e-30465fc120fb",
        "colab": {
          "base_uri": "https://localhost:8080/"
        }
      },
      "execution_count": 15,
      "outputs": [
        {
          "output_type": "stream",
          "name": "stdout",
          "text": [
            "Training Time: 178.5083 seconds\n",
            "Inference Time: 0.0785 seconds\n",
            "Accuracy: 0.97\n",
            "Confusion Matrix:\n",
            "[[1427   17   53   56]\n",
            " [  17 1542    3   23]\n",
            " [  34    3 6224   13]\n",
            " [  82   24   22 1358]]\n",
            "Classification Report:\n",
            "              precision    recall  f1-score   support\n",
            "\n",
            "           0       0.91      0.92      0.92      1553\n",
            "           1       0.97      0.97      0.97      1585\n",
            "           2       0.99      0.99      0.99      6274\n",
            "           3       0.94      0.91      0.93      1486\n",
            "\n",
            "    accuracy                           0.97     10898\n",
            "   macro avg       0.95      0.95      0.95     10898\n",
            "weighted avg       0.97      0.97      0.97     10898\n",
            "\n"
          ]
        }
      ]
    },
    {
      "cell_type": "markdown",
      "source": [
        "\n",
        "\n",
        "---\n",
        "\n"
      ],
      "metadata": {
        "id": "SMzmSjZ0UJOV"
      }
    },
    {
      "cell_type": "markdown",
      "source": [
        "**Naive Bias**"
      ],
      "metadata": {
        "id": "SXarZPhyUnS1"
      }
    },
    {
      "cell_type": "code",
      "source": [
        "from sklearn.naive_bayes import GaussianNB\n",
        "\n",
        "\n",
        "nb_model = GaussianNB()\n",
        "\n",
        "start_time = time.time()\n",
        "nb_model.fit(X_train, y_train)\n",
        "training_time = time.time() - start_time\n",
        "print(f\"Training Time: {training_time:.4f} seconds\")\n",
        "\n",
        "start_time = time.time()\n",
        "y_pred = nb_model.predict(X_test)\n",
        "inference_time = time.time() - start_time\n",
        "print(f\"Inference Time: {inference_time:.4f} seconds\")\n",
        "\n",
        "# Evaluate the model\n",
        "accuracy = accuracy_score(y_test, y_pred)\n",
        "print(f\"Accuracy: {accuracy:.2f}\")\n",
        "\n",
        "# Confusion Matrix and Classification Report\n",
        "conf_matrix = confusion_matrix(y_test, y_pred)\n",
        "class_report = classification_report(y_test, y_pred)\n",
        "\n",
        "print(\"Confusion Matrix:\")\n",
        "print(conf_matrix)\n",
        "print(\"Classification Report:\")\n",
        "print(class_report)"
      ],
      "metadata": {
        "id": "1tOTZbYXU3Zl",
        "outputId": "caf173e2-ba6f-4c88-96df-9cd5a42b0695",
        "colab": {
          "base_uri": "https://localhost:8080/"
        }
      },
      "execution_count": 16,
      "outputs": [
        {
          "output_type": "stream",
          "name": "stdout",
          "text": [
            "Training Time: 0.0424 seconds\n",
            "Inference Time: 0.0088 seconds\n",
            "Accuracy: 0.42\n",
            "Confusion Matrix:\n",
            "[[  67  815  543  128]\n",
            " [  38  873  519  155]\n",
            " [ 222 2241 3252  559]\n",
            " [  31  682  436  337]]\n",
            "Classification Report:\n",
            "              precision    recall  f1-score   support\n",
            "\n",
            "           0       0.19      0.04      0.07      1553\n",
            "           1       0.19      0.55      0.28      1585\n",
            "           2       0.68      0.52      0.59      6274\n",
            "           3       0.29      0.23      0.25      1486\n",
            "\n",
            "    accuracy                           0.42     10898\n",
            "   macro avg       0.34      0.33      0.30     10898\n",
            "weighted avg       0.49      0.42      0.43     10898\n",
            "\n"
          ]
        }
      ]
    },
    {
      "cell_type": "markdown",
      "source": [
        "\n",
        "\n",
        "---\n",
        "\n"
      ],
      "metadata": {
        "id": "tWJ12j9zaH6-"
      }
    },
    {
      "cell_type": "markdown",
      "source": [
        "**Logistic regression**"
      ],
      "metadata": {
        "id": "b6hmUMZraYLB"
      }
    },
    {
      "cell_type": "code",
      "source": [
        "import pandas as pd\n",
        "import numpy as np\n",
        "import matplotlib.pyplot as plt\n",
        "import seaborn as sns\n",
        "import plotly.express as px\n",
        "import plotly.graph_objects as go\n",
        "from sklearn.model_selection import train_test_split\n",
        "from sklearn.preprocessing import StandardScaler, LabelEncoder\n",
        "from sklearn.svm import SVC\n",
        "from sklearn.metrics import classification_report\n",
        "import warnings\n",
        "warnings.filterwarnings('ignore')\n",
        "\n",
        "\n",
        "UAV_data_path = '/content/drive/MyDrive/classes_csv_files/all_classes_combined_shuffled.csv'\n",
        "UAV_data_df= pd.read_csv(UAV_data_path)\n",
        "label2id = {'normal_flight': 0, 'cut_M2_0.5мм_46.5мм': 1, 'add_weight_W1_near_M3': 2, 'tape_on_propeller_M1_M3': 3}\n",
        "id2label = {v: k for k, v in label2id.items()}\n",
        "UAV_data_df.head()\n",
        "\n",
        "\n",
        "# Encode the labels into numerical values\n",
        "label_encoder = LabelEncoder()\n",
        "UAV_data_df['label'] = label_encoder.fit_transform(UAV_data_df['label'])\n",
        "\n",
        "# Split the data into features and labels\n",
        "X = UAV_data_df.drop(['timestamp', 'label'], axis=1)\n",
        "y = UAV_data_df['label']\n",
        "\n",
        "id2label = label_encoder.classes_\n",
        "print(id2label)\n",
        "\n",
        "X_train, X_test, y_train, y_test = train_test_split(X, y, test_size=0.2, random_state=42,stratify=y)\n",
        "print(X_train.shape, X_test.shape, y_train.shape, y_test.shape)\n",
        "print(y_train.value_counts(normalize=True))\n",
        "print(y_test.value_counts(normalize=True))# Normalize the feature data\n",
        "scaler = StandardScaler()\n",
        "X_train_scaled = scaler.fit_transform(X_train)\n",
        "X_test_scaled = scaler.transform(X_test)\n",
        "from sklearn.linear_model import LogisticRegression\n",
        "from sklearn.metrics import classification_report, confusion_matrix, ConfusionMatrixDisplay\n",
        "import time\n",
        "\n",
        "# Assuming X_train_scaled, X_test_scaled, y_train, y_test are already defined\n",
        "# Assuming feature_names is a list of feature names\n",
        "\n",
        "\n",
        "clf = LogisticRegression(random_state=0, multi_class='multinomial', solver='lbfgs')\n",
        "# Measure inference time\n",
        "start_time = time.time()\n",
        "clf=clf.fit(X_train_scaled, y_train)\n",
        "train_time = time.time() - start_time\n",
        "print(f\"Training Time: {train_time:.4f} seconds\")\n",
        "\n",
        "\n",
        "from sklearn.metrics import classification_report, accuracy_score\n",
        "\n",
        "# Measure inference time\n",
        "start_time = time.time()\n",
        "y_pred = clf.predict(X_test)\n",
        "inference_time = time.time() - start_time\n",
        "print(f\"Inference Time: {inference_time:.4f} seconds\")\n",
        "\n",
        "\n",
        "import matplotlib.pyplot as plt\n",
        "import pandas as pd\n",
        "\n",
        "\n",
        "# Print the score of the model\n",
        "score = clf.score(X_test_scaled, y_test)\n",
        "print(f'Model accuracy: {score:.2f}')\n",
        "\n",
        "# Feature importance (coefficients)\n",
        "# For multi-class, clf.coef_ will be an array of shape (n_classes, n_features)\n",
        "# We will sum the absolute values of the coefficients across all classes\n",
        "feature_importance = abs(clf.coef_).sum(axis=0)\n",
        "feature_names = X.columns if isinstance(X, pd.DataFrame) else [f'Feature {i}' for i in range(len(feature_importance))]\n",
        "\n",
        "\n",
        "# Check if feature_names matches the length of feature_importance\n",
        "if len(feature_names) != len(feature_importance):\n",
        "    raise ValueError(\"Length of feature_names does not match number of features in the model\")\n",
        "\n",
        "# Feature importance as a DataFrame\n",
        "feature_importance_df = pd.DataFrame({\n",
        "    'Feature': feature_names,\n",
        "    'Importance': feature_importance\n",
        "}).sort_values(by='Importance', ascending=False)\n",
        "\n",
        "# Plot the feature importance\n",
        "plt.figure(figsize=(10, 6))\n",
        "plt.barh(feature_importance_df['Feature'], feature_importance_df['Importance'], color='b')\n",
        "plt.xlabel('Feature Importance')\n",
        "plt.ylabel('Features')\n",
        "plt.title('Feature Importance from Logistic Regression')\n",
        "plt.gca().invert_yaxis()  # To display the highest importance at the top\n",
        "plt.show()\n",
        "\n",
        "# Predictions and classification report\n",
        "y_pred = clf.predict(X_test_scaled)\n",
        "class_names = label_encoder.classes_\n",
        "report = classification_report(y_test, y_pred, target_names=class_names)\n",
        "print('Classification Report:')\n",
        "print(report)\n",
        "\n",
        "# Confusion matrix\n",
        "cm = confusion_matrix(y_test, y_pred)\n",
        "disp = ConfusionMatrixDisplay(confusion_matrix=cm, display_labels=class_names)\n",
        "disp.plot(cmap=plt.cm.Blues)\n",
        "plt.title('Confusion Matrix')\n",
        "plt.show()\n",
        "\n",
        "# Display the DataFrame\n",
        "\n",
        "\n",
        "#feature_importance_df\n",
        "# Display the DataFrame\n",
        "#import ace_tools as tools; tools.display_dataframe_to_user(name=\"Feature Importance from Logistic Regression\", dataframe=feature_importance_df)\n"
      ],
      "metadata": {
        "id": "-e257RbEaIyJ",
        "outputId": "0c901b4e-0c0a-48c0-b4ec-2cc2e50d0723",
        "colab": {
          "base_uri": "https://localhost:8080/",
          "height": 1000
        }
      },
      "execution_count": 19,
      "outputs": [
        {
          "output_type": "stream",
          "name": "stdout",
          "text": [
            "['add_weight_W1_near_M3' 'cut_M2_0.5мм_46.5мм' 'normal_flight'\n",
            " 'tape_on_propeller_M1_M3']\n",
            "(43590, 20) (10898, 20) (43590,) (10898,)\n",
            "label\n",
            "2    0.571370\n",
            "1    0.143106\n",
            "0    0.142831\n",
            "3    0.142693\n",
            "Name: proportion, dtype: float64\n",
            "label\n",
            "2    0.571297\n",
            "1    0.143146\n",
            "0    0.142870\n",
            "3    0.142687\n",
            "Name: proportion, dtype: float64\n",
            "Training Time: 1.4580 seconds\n",
            "Inference Time: 0.0060 seconds\n",
            "Model accuracy: 0.87\n"
          ]
        },
        {
          "output_type": "display_data",
          "data": {
            "text/plain": [
              "<Figure size 1000x600 with 1 Axes>"
            ],
            "image/png": "[encoded data removed]"
          },
          "metadata": {}
        },
        {
          "output_type": "stream",
          "name": "stdout",
          "text": [
            "Classification Report:\n",
            "                         precision    recall  f1-score   support\n",
            "\n",
            "  add_weight_W1_near_M3       0.75      0.70      0.72      1557\n",
            "    cut_M2_0.5мм_46.5мм       0.80      0.81      0.80      1560\n",
            "          normal_flight       0.96      0.98      0.97      6226\n",
            "tape_on_propeller_M1_M3       0.68      0.64      0.66      1555\n",
            "\n",
            "               accuracy                           0.87     10898\n",
            "              macro avg       0.79      0.78      0.79     10898\n",
            "           weighted avg       0.86      0.87      0.87     10898\n",
            "\n"
          ]
        },
        {
          "output_type": "display_data",
          "data": {
            "text/plain": [
              "<Figure size 640x480 with 2 Axes>"
            ],
            "image/png": "[encoded data removed]"
          },
          "metadata": {}
        }
      ]
    },
    {
      "cell_type": "markdown",
      "source": [
        "\n",
        "\n",
        "---\n",
        "\n"
      ],
      "metadata": {
        "id": "hZJPE7X-auUU"
      }
    },
    {
      "cell_type": "markdown",
      "source": [
        "**K-NN**"
      ],
      "metadata": {
        "id": "54bxBoqqUJ6j"
      }
    },
    {
      "cell_type": "code",
      "source": [
        "# Fitting KNeighborsClassifie to the Training set\n",
        "from sklearn.neighbors import KNeighborsClassifier\n",
        "classifier = KNeighborsClassifier()\n",
        "start_time = time.time()\n",
        "classifier.fit(X_train, y_train)\n",
        "training_time = time.time() - start_time\n",
        "print(f\"Training Time: {training_time:.4f} seconds\")"
      ],
      "metadata": {
        "id": "COejpZ7Pay95",
        "outputId": "c31a39ff-f48d-475a-c9c5-03b3f4861718",
        "colab": {
          "base_uri": "https://localhost:8080/"
        }
      },
      "execution_count": 20,
      "outputs": [
        {
          "output_type": "stream",
          "name": "stdout",
          "text": [
            "Training Time: 0.0538 seconds\n"
          ]
        }
      ]
    },
    {
      "cell_type": "code",
      "source": [
        "# Predicting the Test set results\n",
        "import time\n",
        "# Measure inference time\n",
        "start_time = time.time()\n",
        "y_pred = classifier.predict(X_test)\n",
        "inference_time = time.time() - start_time\n",
        "print(f\"Inference Time: {inference_time:.4f} seconds\")"
      ],
      "metadata": {
        "id": "UWsdVJjHbBdZ",
        "outputId": "a0486020-c48e-4fbc-ae0d-bf19ff85a253",
        "colab": {
          "base_uri": "https://localhost:8080/"
        }
      },
      "execution_count": 21,
      "outputs": [
        {
          "output_type": "stream",
          "name": "stdout",
          "text": [
            "Inference Time: 5.3519 seconds\n"
          ]
        }
      ]
    },
    {
      "cell_type": "code",
      "source": [
        "from sklearn.metrics import classification_report, confusion_matrix, accuracy_score\n",
        "result = accuracy_score(y_test,y_pred)\n",
        "print(\"Accuracy:\",result)"
      ],
      "metadata": {
        "id": "onL1474EbHfy",
        "outputId": "a73200c1-7c0b-455d-d94b-01e6286092c6",
        "colab": {
          "base_uri": "https://localhost:8080/"
        }
      },
      "execution_count": 22,
      "outputs": [
        {
          "output_type": "stream",
          "name": "stdout",
          "text": [
            "Accuracy: 0.9433841071756286\n"
          ]
        }
      ]
    }
  ]
}